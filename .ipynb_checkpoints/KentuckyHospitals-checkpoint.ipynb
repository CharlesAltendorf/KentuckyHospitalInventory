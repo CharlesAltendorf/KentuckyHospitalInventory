{
 "cells": [
  {
   "cell_type": "code",
   "execution_count": 26,
   "id": "bdade1b4-6bdd-4cc0-9238-4224c501812a",
   "metadata": {},
   "outputs": [],
   "source": [
    "#importing packages\n",
    "import os\n",
    "import leafmap\n",
    "import pandas as pd"
   ]
  },
  {
   "cell_type": "code",
   "execution_count": 27,
   "id": "86bcdb0e-a331-4ece-ae3f-6012a2bfa982",
   "metadata": {},
   "outputs": [
    {
     "data": {
      "application/vnd.jupyter.widget-view+json": {
       "model_id": "f6f7a1c024554922b765fd789c322ac7",
       "version_major": 2,
       "version_minor": 0
      },
      "text/plain": [
       "Map(center=[40, -100], controls=(ZoomControl(options=['position', 'zoom_in_text', 'zoom_in_title', 'zoom_out_t…"
      ]
     },
     "execution_count": 27,
     "metadata": {},
     "output_type": "execute_result"
    }
   ],
   "source": [
    "#creating an interactive map\n",
    "m = leafmap.Map(center=(40, -100), zoom=4)\n",
    "m"
   ]
  },
  {
   "cell_type": "code",
   "execution_count": 28,
   "id": "c881ca58-12e6-439d-8a8a-f406072a4900",
   "metadata": {},
   "outputs": [
    {
     "data": {
      "application/vnd.jupyter.widget-view+json": {
       "model_id": "80966a9241c34839bcbc036fdce212e9",
       "version_major": 2,
       "version_minor": 0
      },
      "text/plain": [
       "Map(center=[37.8393, -85.25], controls=(ZoomControl(options=['position', 'zoom_in_text', 'zoom_in_title', 'zoo…"
      ]
     },
     "execution_count": 28,
     "metadata": {},
     "output_type": "execute_result"
    }
   ],
   "source": [
    "#reset map to zoom in on Kentucky better\n",
    "m = leafmap.Map(center=(37.8393, -85.25), zoom=7)\n",
    "m"
   ]
  },
  {
   "cell_type": "code",
   "execution_count": 29,
   "id": "2d3e5ba8-4b4e-4748-8598-3ee89f161b42",
   "metadata": {},
   "outputs": [
    {
     "data": {
      "application/vnd.jupyter.widget-view+json": {
       "model_id": "8439b85f38274c7b9e778b35d5bb4b0d",
       "version_major": 2,
       "version_minor": 0
      },
      "text/plain": [
       "Map(center=[37.8393, -85.25], controls=(ZoomControl(options=['position', 'zoom_in_text', 'zoom_in_title', 'zoo…"
      ]
     },
     "execution_count": 29,
     "metadata": {},
     "output_type": "execute_result"
    }
   ],
   "source": [
    "#customizing height\n",
    "m = leafmap.Map(center=(37.8393, -85.25), zoom=7, height=\"400px\", width=\"1000px\")\n",
    "m"
   ]
  },
  {
   "cell_type": "code",
   "execution_count": 30,
   "id": "a256d0ca-0e64-47b9-962d-ef77661c7331",
   "metadata": {},
   "outputs": [
    {
     "data": {
      "application/vnd.jupyter.widget-view+json": {
       "model_id": "52e8a0b55173417c96574d7853909c0c",
       "version_major": 2,
       "version_minor": 0
      },
      "text/plain": [
       "Map(center=[37.8393, -85.25], controls=(ZoomControl(options=['position', 'zoom_in_text', 'zoom_in_title', 'zoo…"
      ]
     },
     "execution_count": 30,
     "metadata": {},
     "output_type": "execute_result"
    }
   ],
   "source": [
    "#adding hospitals geojson\n",
    "m = leafmap.Map(center=(37.8393, -85.25), zoom=7, height=\"400px\", width=\"1000px\")\n",
    "in_geojson = \"Ky_Hospitals.geojson\"\n",
    "m.add_geojson(in_geojson, layer_name=\"Kentucky Hospitals\")\n",
    "m"
   ]
  },
  {
   "cell_type": "code",
   "execution_count": 32,
   "id": "8bb88060-6d4b-4321-91cb-7eff6589d682",
   "metadata": {},
   "outputs": [],
   "source": [
    "#practicing creating a heat map of kentucky hospitals\n",
    "data = pd.read_csv('KentuckyHospitals.csv', header= 0, encoding= 'unicode_escape')\n",
    "m = leafmap.Map(center=(37.8393, -85.25), zoom=7, height=\"400px\", width=\"1000px\")\n",
    "m.add_heatmap(\n",
    "    data,\n",
    "    latitude=\"y\",\n",
    "    longitude=\"x\",\n",
    "    value=\"ACUTE\",\n",
    "    name=\"Heat map\",\n",
    "    radius=20,\n",
    ")"
   ]
  },
  {
   "cell_type": "code",
   "execution_count": 10,
   "id": "1a130a36-562e-47d2-a26a-6cfd4e8acaf4",
   "metadata": {},
   "outputs": [
    {
     "name": "stdout",
     "output_type": "stream",
     "text": [
      "The ipyleaflet map does not support titles.\n"
     ]
    },
    {
     "data": {
      "application/vnd.jupyter.widget-view+json": {
       "model_id": "824150c39c964e5ead59d7fae443e4e4",
       "version_major": 2,
       "version_minor": 0
      },
      "text/plain": [
       "Map(center=[37.8393, -85.25], controls=(ZoomControl(options=['position', 'zoom_in_text', 'zoom_in_title', 'zoo…"
      ]
     },
     "execution_count": 10,
     "metadata": {},
     "output_type": "execute_result"
    }
   ],
   "source": [
    "colors = [\"blue\", \"lime\", \"red\"]\n",
    "vmin = 0\n",
    "vmax = 10000\n",
    "m.add_colorbar(colors=colors, vmin=vmin, vmax=vmax)\n",
    "m.add_title(\"Acute Care Hospital Beds in Kentucky\", font_size=\"20px\", align=\"center\")\n",
    "m"
   ]
  },
  {
   "cell_type": "code",
   "execution_count": null,
   "id": "6385f6a9-a19f-489d-acc4-1fa7d073848b",
   "metadata": {},
   "outputs": [],
   "source": []
  }
 ],
 "metadata": {
  "kernelspec": {
   "display_name": "Python 3 (ipykernel)",
   "language": "python",
   "name": "python3"
  },
  "language_info": {
   "codemirror_mode": {
    "name": "ipython",
    "version": 3
   },
   "file_extension": ".py",
   "mimetype": "text/x-python",
   "name": "python",
   "nbconvert_exporter": "python",
   "pygments_lexer": "ipython3",
   "version": "3.12.3"
  }
 },
 "nbformat": 4,
 "nbformat_minor": 5
}
