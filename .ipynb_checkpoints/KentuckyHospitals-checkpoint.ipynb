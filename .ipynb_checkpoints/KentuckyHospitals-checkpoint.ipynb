{
 "cells": [
  {
   "cell_type": "code",
   "execution_count": 62,
   "id": "bdade1b4-6bdd-4cc0-9238-4224c501812a",
   "metadata": {},
   "outputs": [],
   "source": [
    "#importing packages\n",
    "import os\n",
    "import leafmap\n",
    "import pandas as pd"
   ]
  },
  {
   "cell_type": "code",
   "execution_count": 63,
   "id": "86bcdb0e-a331-4ece-ae3f-6012a2bfa982",
   "metadata": {},
   "outputs": [
    {
     "data": {
      "application/vnd.jupyter.widget-view+json": {
       "model_id": "3209e269f93f4c83a51b5e0a31503dbd",
       "version_major": 2,
       "version_minor": 0
      },
      "text/plain": [
       "Map(center=[40, -100], controls=(ZoomControl(options=['position', 'zoom_in_text', 'zoom_in_title', 'zoom_out_t…"
      ]
     },
     "execution_count": 63,
     "metadata": {},
     "output_type": "execute_result"
    }
   ],
   "source": [
    "#creating an interactive map\n",
    "m = leafmap.Map(center=(40, -100), zoom=4)\n",
    "m"
   ]
  },
  {
   "cell_type": "code",
   "execution_count": 64,
   "id": "c881ca58-12e6-439d-8a8a-f406072a4900",
   "metadata": {},
   "outputs": [
    {
     "data": {
      "application/vnd.jupyter.widget-view+json": {
       "model_id": "f22c0fb4140145189b19558c5106e636",
       "version_major": 2,
       "version_minor": 0
      },
      "text/plain": [
       "Map(center=[37.8393, -85.25], controls=(ZoomControl(options=['position', 'zoom_in_text', 'zoom_in_title', 'zoo…"
      ]
     },
     "execution_count": 64,
     "metadata": {},
     "output_type": "execute_result"
    }
   ],
   "source": [
    "#reset map to zoom in on Kentucky better\n",
    "m = leafmap.Map(center=(37.8393, -85.25), zoom=7)\n",
    "m"
   ]
  },
  {
   "cell_type": "code",
   "execution_count": 65,
   "id": "2d3e5ba8-4b4e-4748-8598-3ee89f161b42",
   "metadata": {},
   "outputs": [
    {
     "data": {
      "application/vnd.jupyter.widget-view+json": {
       "model_id": "a38679576f214dc49ee12179232c8b55",
       "version_major": 2,
       "version_minor": 0
      },
      "text/plain": [
       "Map(center=[37.8393, -85.25], controls=(ZoomControl(options=['position', 'zoom_in_text', 'zoom_in_title', 'zoo…"
      ]
     },
     "execution_count": 65,
     "metadata": {},
     "output_type": "execute_result"
    }
   ],
   "source": [
    "#customizing height\n",
    "m = leafmap.Map(center=(37.8393, -85.25), zoom=7, height=\"400px\", width=\"1000px\")\n",
    "m"
   ]
  },
  {
   "cell_type": "code",
   "execution_count": 66,
   "id": "a256d0ca-0e64-47b9-962d-ef77661c7331",
   "metadata": {},
   "outputs": [
    {
     "data": {
      "application/vnd.jupyter.widget-view+json": {
       "model_id": "6f7bd80969424104baca8b4fc7832d6f",
       "version_major": 2,
       "version_minor": 0
      },
      "text/plain": [
       "Map(center=[37.8393, -85.25], controls=(ZoomControl(options=['position', 'zoom_in_text', 'zoom_in_title', 'zoo…"
      ]
     },
     "execution_count": 66,
     "metadata": {},
     "output_type": "execute_result"
    }
   ],
   "source": [
    "#adding hospitals geojson\n",
    "m = leafmap.Map(center=(37.8393, -85.25), zoom=7, height=\"400px\", width=\"1000px\")\n",
    "in_geojson = \"Ky_Hospitals.geojson\"\n",
    "m.add_geojson(in_geojson, layer_name=\"Kentucky Hospitals\")\n",
    "m"
   ]
  },
  {
   "cell_type": "code",
   "execution_count": 67,
   "id": "8bb88060-6d4b-4321-91cb-7eff6589d682",
   "metadata": {},
   "outputs": [],
   "source": [
    "#practicing creating a heat map of kentucky hospital acute beds\n",
    "#note had to make clean csv file removing all text to make heat map\n",
    "m = leafmap.Map(center=(37.8393, -85.25), zoom=7, height=\"400px\", width=\"1000px\")\n",
    "in_csv = 'KentuckyHospitals.csv'\n",
    "m.add_heatmap(\n",
    "    in_csv,\n",
    "    latitude=\"y\",\n",
    "    longitude=\"x\",\n",
    "    value=\"ACUTE\",\n",
    "    name=\"Heat map\",\n",
    "    radius=20,\n",
    ")"
   ]
  },
  {
   "cell_type": "code",
   "execution_count": 68,
   "id": "1a130a36-562e-47d2-a26a-6cfd4e8acaf4",
   "metadata": {},
   "outputs": [
    {
     "data": {
      "application/vnd.jupyter.widget-view+json": {
       "model_id": "16a4ee0a65e64783ae59ff69a42ae60c",
       "version_major": 2,
       "version_minor": 0
      },
      "text/plain": [
       "Map(center=[37.8393, -85.25], controls=(ZoomControl(options=['position', 'zoom_in_text', 'zoom_in_title', 'zoo…"
      ]
     },
     "execution_count": 68,
     "metadata": {},
     "output_type": "execute_result"
    }
   ],
   "source": [
    "colors = [\"blue\", \"lime\", \"red\"]\n",
    "vmin = 0\n",
    "vmax = 10000\n",
    "m.add_colorbar(colors=colors, vmin=vmin, vmax=vmax)\n",
    "m"
   ]
  },
  {
   "cell_type": "markdown",
   "id": "1486b86b-801a-4e7c-b614-135148649819",
   "metadata": {},
   "source": [
    "As you can see in the above map while Lexington and Louisville have a sizeable acute bed capacity, Northen Kentucky seems to be lagging in comparison for being a large population center.  Many in Northern Kentucky do use hospitals across the river in Cincinnati, would this be different if Kentucky didn't have as stringent "
   ]
  },
  {
   "cell_type": "code",
   "execution_count": 76,
   "id": "86bcd728-87f0-48c1-93c5-eda74e0dac87",
   "metadata": {},
   "outputs": [],
   "source": [
    "#practicing creating a heat map of kentucky hospital Pysch beds\n",
    "#note had to make clean csv file removing all text to make heat map\n",
    "m = leafmap.Map(center=(37.8393, -85.25), zoom=7, height=\"400px\", width=\"1000px\")\n",
    "in_csv = 'KentuckyHospitals.csv'\n",
    "m.add_heatmap(\n",
    "    in_csv,\n",
    "    latitude=\"y\",\n",
    "    longitude=\"x\",\n",
    "    value=\"PSYCH\",\n",
    "    name=\"Heat map\",\n",
    "    radius=20,\n",
    ")"
   ]
  },
  {
   "cell_type": "code",
   "execution_count": 77,
   "id": "5bb7fdf4-6802-4133-9c7a-9884bbcefc05",
   "metadata": {},
   "outputs": [
    {
     "data": {
      "application/vnd.jupyter.widget-view+json": {
       "model_id": "09e4e8f3e57148db8828a8e897a84149",
       "version_major": 2,
       "version_minor": 0
      },
      "text/plain": [
       "Map(center=[37.8393, -85.25], controls=(ZoomControl(options=['position', 'zoom_in_text', 'zoom_in_title', 'zoo…"
      ]
     },
     "execution_count": 77,
     "metadata": {},
     "output_type": "execute_result"
    }
   ],
   "source": [
    "colors = [\"blue\", \"lime\", \"red\"]\n",
    "vmin = 0\n",
    "vmax = 10000\n",
    "m.add_colorbar(colors=colors, vmin=vmin, vmax=vmax)\n",
    "m"
   ]
  },
  {
   "cell_type": "markdown",
   "id": "52c2995c-b0e1-4f2c-a5f8-1ce0f73124b1",
   "metadata": {},
   "source": [
    "When one looks at the mental health bed capacity map, inequality is even more on display.  No capacity in northern kentucky and seemingly deeper capacity in louisvile near fort knox and hopkinsville near fort campbell."
   ]
  },
  {
   "cell_type": "code",
   "execution_count": 78,
   "id": "80e58b39-9e27-4641-895c-547acfdb0d53",
   "metadata": {},
   "outputs": [],
   "source": [
    "m.to_html(\"index.html\")"
   ]
  },
  {
   "cell_type": "code",
   "execution_count": null,
   "id": "214eb1a8-0373-42f1-b57e-630cb070d8ee",
   "metadata": {},
   "outputs": [],
   "source": []
  }
 ],
 "metadata": {
  "kernelspec": {
   "display_name": "Python 3 (ipykernel)",
   "language": "python",
   "name": "python3"
  },
  "language_info": {
   "codemirror_mode": {
    "name": "ipython",
    "version": 3
   },
   "file_extension": ".py",
   "mimetype": "text/x-python",
   "name": "python",
   "nbconvert_exporter": "python",
   "pygments_lexer": "ipython3",
   "version": "3.12.3"
  }
 },
 "nbformat": 4,
 "nbformat_minor": 5
}
