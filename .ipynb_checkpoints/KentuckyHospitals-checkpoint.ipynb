{
 "cells": [
  {
   "cell_type": "code",
   "execution_count": 18,
   "id": "bdade1b4-6bdd-4cc0-9238-4224c501812a",
   "metadata": {},
   "outputs": [],
   "source": [
    "#importing packages\n",
    "import os\n",
    "import leafmap\n",
    "import csv\n",
    "import pandas as pd\n",
    "import matplotlib.pyplot as plt\n",
    "import matplotlib\n",
    "\n",
    "matplotlib.style.use('ggplot')\n",
    "\n",
    "%matplotlib inline"
   ]
  },
  {
   "cell_type": "code",
   "execution_count": 19,
   "id": "86bcdb0e-a331-4ece-ae3f-6012a2bfa982",
   "metadata": {},
   "outputs": [
    {
     "data": {
      "application/vnd.jupyter.widget-view+json": {
       "model_id": "f4bae6fdfe5f4ca9bd8fae9106f7c8a6",
       "version_major": 2,
       "version_minor": 0
      },
      "text/plain": [
       "Map(center=[40, -100], controls=(ZoomControl(options=['position', 'zoom_in_text', 'zoom_in_title', 'zoom_out_t…"
      ]
     },
     "execution_count": 19,
     "metadata": {},
     "output_type": "execute_result"
    }
   ],
   "source": [
    "#creating an interactive map\n",
    "m = leafmap.Map(center=(40, -100), zoom=4)\n",
    "m"
   ]
  },
  {
   "cell_type": "code",
   "execution_count": 20,
   "id": "c881ca58-12e6-439d-8a8a-f406072a4900",
   "metadata": {},
   "outputs": [
    {
     "data": {
      "application/vnd.jupyter.widget-view+json": {
       "model_id": "841c0c63b3b24747be501a1044859a12",
       "version_major": 2,
       "version_minor": 0
      },
      "text/plain": [
       "Map(center=[37.8393, -85.25], controls=(ZoomControl(options=['position', 'zoom_in_text', 'zoom_in_title', 'zoo…"
      ]
     },
     "execution_count": 20,
     "metadata": {},
     "output_type": "execute_result"
    }
   ],
   "source": [
    "#reset map to zoom in on Kentucky better\n",
    "m = leafmap.Map(center=(37.8393, -85.25), zoom=7)\n",
    "m"
   ]
  },
  {
   "cell_type": "code",
   "execution_count": 21,
   "id": "2d3e5ba8-4b4e-4748-8598-3ee89f161b42",
   "metadata": {},
   "outputs": [
    {
     "data": {
      "application/vnd.jupyter.widget-view+json": {
       "model_id": "d2bd007a194c4203bff604a75136b1ed",
       "version_major": 2,
       "version_minor": 0
      },
      "text/plain": [
       "Map(center=[37.8393, -85.25], controls=(ZoomControl(options=['position', 'zoom_in_text', 'zoom_in_title', 'zoo…"
      ]
     },
     "execution_count": 21,
     "metadata": {},
     "output_type": "execute_result"
    }
   ],
   "source": [
    "#customizing height\n",
    "m = leafmap.Map(center=(37.8393, -85.25), zoom=7, height=\"400px\", width=\"1000px\")\n",
    "m"
   ]
  },
  {
   "cell_type": "code",
   "execution_count": 22,
   "id": "a256d0ca-0e64-47b9-962d-ef77661c7331",
   "metadata": {},
   "outputs": [
    {
     "data": {
      "application/vnd.jupyter.widget-view+json": {
       "model_id": "f3c2da280e344b4f9130fc51ca059cae",
       "version_major": 2,
       "version_minor": 0
      },
      "text/plain": [
       "Map(center=[37.8393, -85.25], controls=(ZoomControl(options=['position', 'zoom_in_text', 'zoom_in_title', 'zoo…"
      ]
     },
     "execution_count": 22,
     "metadata": {},
     "output_type": "execute_result"
    }
   ],
   "source": [
    "#adding hospitals geojson\n",
    "m = leafmap.Map(center=(37.8393, -85.25), zoom=7, height=\"400px\", width=\"1000px\")\n",
    "in_geojson = \"Ky_Hospitals.geojson\"\n",
    "m.add_geojson(in_geojson, layer_name=\"Kentucky Hospitals\")\n",
    "m"
   ]
  },
  {
   "cell_type": "code",
   "execution_count": 16,
   "id": "8bb88060-6d4b-4321-91cb-7eff6589d682",
   "metadata": {},
   "outputs": [],
   "source": [
    "#practicing creating a heat map of kentucky hospital acute beds\n",
    "#note had to make clean csv file removing all text to make heat map\n",
    "m = leafmap.Map(center=(37.8393, -85.25), zoom=7, height=\"400px\", width=\"1000px\")\n",
    "in_csv = 'KentuckyHospitals.csv'\n",
    "m.add_heatmap(\n",
    "    in_csv,\n",
    "    latitude=\"y\",\n",
    "    longitude=\"x\",\n",
    "    value=\"ACUTE\",\n",
    "    name=\"Heat map\",\n",
    "    radius=20,\n",
    ")"
   ]
  },
  {
   "cell_type": "code",
   "execution_count": 17,
   "id": "1a130a36-562e-47d2-a26a-6cfd4e8acaf4",
   "metadata": {},
   "outputs": [
    {
     "data": {
      "application/vnd.jupyter.widget-view+json": {
       "model_id": "8a10eea24ddd46879b07ecb70c3741a5",
       "version_major": 2,
       "version_minor": 0
      },
      "text/plain": [
       "Map(center=[37.8393, -85.25], controls=(ZoomControl(options=['position', 'zoom_in_text', 'zoom_in_title', 'zoo…"
      ]
     },
     "execution_count": 17,
     "metadata": {},
     "output_type": "execute_result"
    }
   ],
   "source": [
    "colors = [\"blue\", \"lime\", \"red\"]\n",
    "vmin = 0\n",
    "vmax = 10000\n",
    "m.add_colorbar(colors=colors, vmin=vmin, vmax=vmax)\n",
    "m"
   ]
  },
  {
   "cell_type": "markdown",
   "id": "1486b86b-801a-4e7c-b614-135148649819",
   "metadata": {},
   "source": [
    "As you can see in the above map while Lexington and Louisville have a sizeable acute bed capacity, Northern Kentucky seems to be lagging in comparison for being a large population center.  Many in Northern Kentucky do use hospitals across the river in Cincinnati, would this be different if Kentucky didn't have as stringent certificate of need laws?"
   ]
  },
  {
   "cell_type": "code",
   "execution_count": 8,
   "id": "86bcd728-87f0-48c1-93c5-eda74e0dac87",
   "metadata": {},
   "outputs": [],
   "source": [
    "#practicing creating a heat map of kentucky hospital Pysch beds\n",
    "#note had to make clean csv file removing all text to make heat map\n",
    "m = leafmap.Map(center=(37.8393, -85.25), zoom=7, height=\"400px\", width=\"1000px\")\n",
    "in_csv = 'KentuckyHospitals.csv'\n",
    "m.add_heatmap(\n",
    "    in_csv,\n",
    "    latitude=\"y\",\n",
    "    longitude=\"x\",\n",
    "    value=\"PSYCH\",\n",
    "    name=\"Heat map\",\n",
    "    radius=20,\n",
    ")"
   ]
  },
  {
   "cell_type": "code",
   "execution_count": 9,
   "id": "5bb7fdf4-6802-4133-9c7a-9884bbcefc05",
   "metadata": {},
   "outputs": [
    {
     "data": {
      "application/vnd.jupyter.widget-view+json": {
       "model_id": "87dab2fb7ac94acea101bb3abb6873da",
       "version_major": 2,
       "version_minor": 0
      },
      "text/plain": [
       "Map(center=[37.8393, -85.25], controls=(ZoomControl(options=['position', 'zoom_in_text', 'zoom_in_title', 'zoo…"
      ]
     },
     "execution_count": 9,
     "metadata": {},
     "output_type": "execute_result"
    }
   ],
   "source": [
    "colors = [\"blue\", \"lime\", \"red\"]\n",
    "vmin = 0\n",
    "vmax = 10000\n",
    "m.add_colorbar(colors=colors, vmin=vmin, vmax=vmax)\n",
    "m"
   ]
  },
  {
   "cell_type": "markdown",
   "id": "52c2995c-b0e1-4f2c-a5f8-1ce0f73124b1",
   "metadata": {},
   "source": [
    "When one looks at the mental health bed capacity map, inequality is even more on display.  No capacity in northern kentucky and seemingly deeper capacity in louisvile near fort knox and hopkinsville near fort campbell."
   ]
  },
  {
   "cell_type": "code",
   "execution_count": 10,
   "id": "80e58b39-9e27-4641-895c-547acfdb0d53",
   "metadata": {},
   "outputs": [],
   "source": [
    "m.to_html(\"index.html\")"
   ]
  },
  {
   "cell_type": "markdown",
   "id": "b778176f-5557-4775-ba0d-b32250fb55b7",
   "metadata": {},
   "source": [
    "However, the other question we would like to know from the hospital data is really how many different \"brands\" there are for you to shop your medical needs around to. Let's first examine this in a bar graph using matplotlib."
   ]
  },
  {
   "cell_type": "code",
   "execution_count": 35,
   "id": "2791187c-cd85-42fb-9fcd-e425f36e2f03",
   "metadata": {},
   "outputs": [],
   "source": [
    "count = pd.read_csv('HospitalCount.csv')"
   ]
  },
  {
   "cell_type": "code",
   "execution_count": 36,
   "id": "37b35644-fbae-47e9-87e7-d0ca17f9e3cd",
   "metadata": {},
   "outputs": [
    {
     "data": {
      "text/html": [
       "<div>\n",
       "<style scoped>\n",
       "    .dataframe tbody tr th:only-of-type {\n",
       "        vertical-align: middle;\n",
       "    }\n",
       "\n",
       "    .dataframe tbody tr th {\n",
       "        vertical-align: top;\n",
       "    }\n",
       "\n",
       "    .dataframe thead th {\n",
       "        text-align: right;\n",
       "    }\n",
       "</style>\n",
       "<table border=\"1\" class=\"dataframe\">\n",
       "  <thead>\n",
       "    <tr style=\"text-align: right;\">\n",
       "      <th></th>\n",
       "      <th>Brand</th>\n",
       "      <th>NUM</th>\n",
       "    </tr>\n",
       "  </thead>\n",
       "  <tbody>\n",
       "    <tr>\n",
       "      <th>0</th>\n",
       "      <td>Independent Other</td>\n",
       "      <td>62</td>\n",
       "    </tr>\n",
       "    <tr>\n",
       "      <th>1</th>\n",
       "      <td>Appalachian Regional Healthcare</td>\n",
       "      <td>10</td>\n",
       "    </tr>\n",
       "    <tr>\n",
       "      <th>2</th>\n",
       "      <td>UK Commonwealth of Kentucky</td>\n",
       "      <td>5</td>\n",
       "    </tr>\n",
       "    <tr>\n",
       "      <th>3</th>\n",
       "      <td>UHS</td>\n",
       "      <td>2</td>\n",
       "    </tr>\n",
       "    <tr>\n",
       "      <th>4</th>\n",
       "      <td>HealthSouth</td>\n",
       "      <td>2</td>\n",
       "    </tr>\n",
       "  </tbody>\n",
       "</table>\n",
       "</div>"
      ],
      "text/plain": [
       "                             Brand  NUM\n",
       "0                Independent Other   62\n",
       "1  Appalachian Regional Healthcare   10\n",
       "2      UK Commonwealth of Kentucky    5\n",
       "3                              UHS    2\n",
       "4                      HealthSouth    2"
      ]
     },
     "execution_count": 36,
     "metadata": {},
     "output_type": "execute_result"
    }
   ],
   "source": [
    "count.head()"
   ]
  },
  {
   "cell_type": "code",
   "execution_count": 39,
   "id": "7c8e3a3f-497d-4c2f-9c41-f525977464c5",
   "metadata": {},
   "outputs": [
    {
     "data": {
      "image/png": "[encoded data removed]",
      "text/plain": [
       "<Figure size 1600x900 with 1 Axes>"
      ]
     },
     "metadata": {},
     "output_type": "display_data"
    }
   ],
   "source": [
    "count.plot(y='NUM', \n",
    "                                x='Brand', \n",
    "                                kind='bar', \n",
    "                                figsize=(16,9), \n",
    "                                title='Hospitals by Brand');"
   ]
  },
  {
   "cell_type": "code",
   "execution_count": 40,
   "id": "48368bf2-19ba-4f2a-9fc7-bb9200d7bf60",
   "metadata": {},
   "outputs": [
    {
     "data": {
      "text/plain": [
       "Brand    Independent OtherAppalachian Regional Healthca...\n",
       "NUM                                                    112\n",
       "dtype: object"
      ]
     },
     "execution_count": 40,
     "metadata": {},
     "output_type": "execute_result"
    }
   ],
   "source": [
    "count.sum()"
   ]
  },
  {
   "cell_type": "code",
   "execution_count": 42,
   "id": "edd1b970-d1fc-46b9-8945-2e581ed6b054",
   "metadata": {},
   "outputs": [
    {
     "data": {
      "text/plain": [
       "count                    12\n",
       "unique                   12\n",
       "top       Independent Other\n",
       "freq                      1\n",
       "Name: Brand, dtype: object"
      ]
     },
     "execution_count": 42,
     "metadata": {},
     "output_type": "execute_result"
    }
   ],
   "source": [
    "brand_count = count['Brand'].describe()\n",
    "brand_count"
   ]
  },
  {
   "cell_type": "markdown",
   "id": "6598472e-bc57-451e-a0de-ea7a6c5a9d30",
   "metadata": {},
   "source": [
    "As we can see from the above data roughly half of the hospitals in kentucky are still independent with the other half being distributed across 11 \"brands\".  However does the story change when we factor in acute beds?"
   ]
  }
 ],
 "metadata": {
  "kernelspec": {
   "display_name": "Python 3 (ipykernel)",
   "language": "python",
   "name": "python3"
  },
  "language_info": {
   "codemirror_mode": {
    "name": "ipython",
    "version": 3
   },
   "file_extension": ".py",
   "mimetype": "text/x-python",
   "name": "python",
   "nbconvert_exporter": "python",
   "pygments_lexer": "ipython3",
   "version": "3.12.3"
  }
 },
 "nbformat": 4,
 "nbformat_minor": 5
}
