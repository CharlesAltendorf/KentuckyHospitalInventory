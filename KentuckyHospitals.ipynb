{
 "cells": [
  {
   "cell_type": "code",
   "execution_count": 3,
   "id": "bdade1b4-6bdd-4cc0-9238-4224c501812a",
   "metadata": {},
   "outputs": [],
   "source": [
    "#importing packages\n",
    "import os\n",
    "import leafmap"
   ]
  },
  {
   "cell_type": "code",
   "execution_count": 4,
   "id": "86bcdb0e-a331-4ece-ae3f-6012a2bfa982",
   "metadata": {},
   "outputs": [
    {
     "data": {
      "application/vnd.jupyter.widget-view+json": {
       "model_id": "37db48d138f545959637a4fa2af0f312",
       "version_major": 2,
       "version_minor": 0
      },
      "text/plain": [
       "Map(center=[40, -100], controls=(ZoomControl(options=['position', 'zoom_in_text', 'zoom_in_title', 'zoom_out_t…"
      ]
     },
     "execution_count": 4,
     "metadata": {},
     "output_type": "execute_result"
    }
   ],
   "source": [
    "#creating an interactive map\n",
    "m = leafmap.Map(center=(40, -100), zoom=4)\n",
    "m"
   ]
  },
  {
   "cell_type": "code",
   "execution_count": 23,
   "id": "c881ca58-12e6-439d-8a8a-f406072a4900",
   "metadata": {},
   "outputs": [
    {
     "data": {
      "application/vnd.jupyter.widget-view+json": {
       "model_id": "cd8d0e34deca4e03bd64e55ea0ef1631",
       "version_major": 2,
       "version_minor": 0
      },
      "text/plain": [
       "Map(center=[37.8393, -85.25], controls=(ZoomControl(options=['position', 'zoom_in_text', 'zoom_in_title', 'zoo…"
      ]
     },
     "execution_count": 23,
     "metadata": {},
     "output_type": "execute_result"
    }
   ],
   "source": [
    "#reset map to zoom in on Kentucky better\n",
    "m = leafmap.Map(center=(37.8393, -85.25), zoom=7)\n",
    "m"
   ]
  },
  {
   "cell_type": "code",
   "execution_count": 26,
   "id": "2d3e5ba8-4b4e-4748-8598-3ee89f161b42",
   "metadata": {},
   "outputs": [
    {
     "data": {
      "application/vnd.jupyter.widget-view+json": {
       "model_id": "63494f5a6687406b94f69d28f4751da7",
       "version_major": 2,
       "version_minor": 0
      },
      "text/plain": [
       "Map(center=[37.8393, -85.25], controls=(ZoomControl(options=['position', 'zoom_in_text', 'zoom_in_title', 'zoo…"
      ]
     },
     "execution_count": 26,
     "metadata": {},
     "output_type": "execute_result"
    }
   ],
   "source": [
    "#customizing height\n",
    "m = leafmap.Map(center=(37.8393, -85.25), zoom=7, height=\"400px\", width=\"1000px\")\n",
    "m"
   ]
  },
  {
   "cell_type": "code",
   "execution_count": 29,
   "id": "a256d0ca-0e64-47b9-962d-ef77661c7331",
   "metadata": {},
   "outputs": [
    {
     "data": {
      "application/vnd.jupyter.widget-view+json": {
       "model_id": "68e7437d2de445ce8d2c0de5a4e85526",
       "version_major": 2,
       "version_minor": 0
      },
      "text/plain": [
       "Map(center=[37.8393, -85.25], controls=(ZoomControl(options=['position', 'zoom_in_text', 'zoom_in_title', 'zoo…"
      ]
     },
     "execution_count": 29,
     "metadata": {},
     "output_type": "execute_result"
    }
   ],
   "source": [
    "#adding hospitals geojson\n",
    "m = leafmap.Map(center=(37.8393, -85.25), zoom=7, height=\"400px\", width=\"1000px\")\n",
    "in_geojson = \"Ky_Hospitals.geojson\"\n",
    "m.add_geojson(in_geojson, layer_name=\"Kentucky Hospitals\")\n",
    "m"
   ]
  },
  {
   "cell_type": "code",
   "execution_count": null,
   "id": "8bb88060-6d4b-4321-91cb-7eff6589d682",
   "metadata": {},
   "outputs": [],
   "source": []
  }
 ],
 "metadata": {
  "kernelspec": {
   "display_name": "Python 3 (ipykernel)",
   "language": "python",
   "name": "python3"
  },
  "language_info": {
   "codemirror_mode": {
    "name": "ipython",
    "version": 3
   },
   "file_extension": ".py",
   "mimetype": "text/x-python",
   "name": "python",
   "nbconvert_exporter": "python",
   "pygments_lexer": "ipython3",
   "version": "3.12.3"
  }
 },
 "nbformat": 4,
 "nbformat_minor": 5
}
